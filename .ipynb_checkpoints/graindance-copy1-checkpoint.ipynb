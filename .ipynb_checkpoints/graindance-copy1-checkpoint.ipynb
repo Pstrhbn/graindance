{
 "cells": [
  {
   "cell_type": "code",
   "execution_count": 21,
   "metadata": {
    "collapsed": false
   },
   "outputs": [],
   "source": [
    "%matplotlib notebook\n",
    "\n",
    "import pyaudio\n",
    "from pyaudio import PyAudio, paFloat32\n",
    "from time import sleep\n",
    "from scipy.io.wavfile import write\n",
    "from numpy import linspace,sin,pi,int16,concatenate,ndarray,array,int64,int32,float32,zeros,random,arange,float64\n",
    "from pylab import plot,show,axis\n",
    "\n",
    "import matplotlib.pyplot as plt\n",
    "import pandas as pd\n",
    "import os\n",
    "import random as rand\n",
    "import cmath\n",
    "from os.path import isfile, join "
   ]
  },
  {
   "cell_type": "code",
   "execution_count": 15,
   "metadata": {
    "collapsed": false
   },
   "outputs": [],
   "source": [
    "fileList = os.listdir('gg/')\n",
    "noteDir = os.listdir('scl/')\n",
    "\n",
    "def isDataFile(filename):\n",
    "    return filename.find('.dat')>0\n",
    "\n",
    "dataFiles = filter(isDataFile,fileList)\n",
    "\n",
    "def isNoteFile(filename):\n",
    "    return filename.find('.txt')>0\n",
    "\n",
    "noteFiles = filter(isNoteFile,noteDir) #Pulls all .txt files containing the various scales, same as data files func"
   ]
  },
  {
   "cell_type": "code",
   "execution_count": null,
   "metadata": {
    "collapsed": false
   },
   "outputs": [],
   "source": [
    "h = 50\n",
    "h/5 "
   ]
  },
  {
   "cell_type": "code",
   "execution_count": 16,
   "metadata": {
    "collapsed": false
   },
   "outputs": [
    {
     "name": "stdout",
     "output_type": "stream",
     "text": [
      "Building note list...\n",
      "Note list built.\n",
      "Building grain list...\n",
      "Grain list built.\n"
     ]
    }
   ],
   "source": [
    "scales = {} #Initialize overall scale dictionary\n",
    "all_grains = [] #Initialize overall list of grain snapshots\n",
    "\n",
    "print 'Building note list...'\n",
    "for scale in noteFiles:\n",
    "    notes = open('scl/' + scale,'r')\n",
    "    note_list = []\n",
    "    note_file = notes.readlines()\n",
    "    for line in note_file:\n",
    "        line = line.split(\"\\t\",3)\n",
    "        line[2] = line[2].strip('\\n')\n",
    "        note_list.append(line)\n",
    "    scales[scale.strip('.txt')] = note_list\n",
    "\n",
    "print 'Note list built.'\n",
    "\n",
    "print 'Building grain list...'\n",
    "\n",
    "for data in dataFiles:\n",
    "    grain_list = []\n",
    "    grains = open(\"gg/\" + data, \"r\")\n",
    "    grain_file = grains.readlines()\n",
    "    for line in grain_file:\n",
    "        line = line.split(\"\\t\",3)\n",
    "        line[2] = line[2].strip('\\n')\n",
    "        grain_list.append(line)\n",
    "    all_grains.append(grain_list)\n",
    "\n",
    "print 'Grain list built.'"
   ]
  },
  {
   "cell_type": "code",
   "execution_count": null,
   "metadata": {
    "collapsed": false
   },
   "outputs": [],
   "source": [
    "len(all_grains[0])"
   ]
  },
  {
   "cell_type": "code",
   "execution_count": null,
   "metadata": {
    "collapsed": false
   },
   "outputs": [],
   "source": [
    "pd.read_csv('gg/'+dataFiles[0],sep='\\t',header=None,names=('grain-ID','area','sides'))"
   ]
  },
  {
   "cell_type": "code",
   "execution_count": 17,
   "metadata": {
    "collapsed": true
   },
   "outputs": [],
   "source": [
    "# tone synthesis\n",
    "def note(freq, len, amp=1, rate=44100):\n",
    " t = linspace(0,len,len*rate)\n",
    " data = sin(2*pi*freq*t)*amp\n",
    " return data.astype(int16) # two byte integers"
   ]
  },
  {
   "cell_type": "code",
   "execution_count": 20,
   "metadata": {
    "collapsed": false
   },
   "outputs": [
    {
     "ename": "SyntaxError",
     "evalue": "invalid syntax (<ipython-input-20-5d660477b3af>, line 73)",
     "output_type": "error",
     "traceback": [
      "\u001b[1;36m  File \u001b[1;32m\"<ipython-input-20-5d660477b3af>\"\u001b[1;36m, line \u001b[1;32m73\u001b[0m\n\u001b[1;33m    stream_callback = callback)\u001b[0m\n\u001b[1;37m                  ^\u001b[0m\n\u001b[1;31mSyntaxError\u001b[0m\u001b[1;31m:\u001b[0m invalid syntax\n"
     ]
    }
   ],
   "source": [
    "################################### Constants ##################################\n",
    "\n",
    "fs            = 44100   # Hz\n",
    "threshold     = 0.8     # absolute gain\n",
    "delay         = 40      # samples\n",
    "signal_length = 1       # second\n",
    "release_coeff = 0.9999  # release time factor\n",
    "attack_coeff  = 0.9     # attack time factor\n",
    "dtype         = float32 # default data type\n",
    "block_length  = 1024    # samples\n",
    "\n",
    "#################### Generate quiet-loud-quiet noise signal ####################\n",
    "\n",
    "signal = array(random.rand(fs*signal_length)*2-1, dtype=dtype)\n",
    "signal[:signal_length*fs/3] *= 0.1\n",
    "signal[signal_length*fs*2/3:] *= 0.1\n",
    "\n",
    "############################# Implementation of Limiter ########################\n",
    "\n",
    "class Limiter:\n",
    "    def __init__(self, attack_coeff, release_coeff, delay, dtype=float32):\n",
    "        self.delay_index = 0\n",
    "        self.envelope = 0\n",
    "        self.gain = 1\n",
    "        self.delay = delay\n",
    "        self.delay_line = zeros(delay, dtype=dtype)\n",
    "        self.release_coeff = release_coeff\n",
    "        self.attack_coeff = attack_coeff\n",
    "\n",
    "    def limit(self, signal, threshold):\n",
    "        for i in arange(len(signal)):\n",
    "            self.delay_line[self.delay_index] = signal[i]\n",
    "            self.delay_index = (self.delay_index + 1) % self.delay\n",
    "\n",
    "            # calculate an envelope of the signal\n",
    "            self.envelope *= self.release_coeff\n",
    "            self.envelope  = max(abs(signal[i]), self.envelope)\n",
    "\n",
    "            # have self.gain go towards a desired limiter gain\n",
    "            if self.envelope > threshold:\n",
    "                target_gain = (1+threshold-self.envelope)\n",
    "            else:\n",
    "                target_gain = 1.0\n",
    "            self.gain = ( self.gain*self.attack_coeff +\n",
    "                          target_gain*(1-self.attack_coeff) )\n",
    "\n",
    "            # limit the delayed signal\n",
    "            signal[i] = self.delay_line[self.delay_index] * self.gain\n",
    "\n",
    "################################# Play the Audio ###############################\n",
    "\n",
    "original_signal = array(signal, copy=True, dtype=dtype)\n",
    "\n",
    "limiter = Limiter(attack_coeff, release_coeff, delay, dtype)\n",
    "\n",
    "def callback(in_data, frame_count, time_info, flag):\n",
    "    if flag:\n",
    "        print(\"Playback Error: %i\" % flag)\n",
    "    played_frames = callback.counter\n",
    "    callback.counter += frame_count\n",
    "    limiter.limit(signal[played_frames:callback.counter], threshold)\n",
    "    return signal[played_frames:callback.counter], pyaudio.paContinue\n",
    "\n",
    "callback.counter = 0\n",
    "\n",
    "pa = PyAudio()\n",
    "\n",
    "stream = pa.open(format = paFloat32,\n",
    "                 channels = 1,\n",
    "                 rate = fs,\n",
    "                 frames_per_buffer = block_length,\n",
    "                 output = True\n",
    "                 stream_callback = callback)\n",
    "\n",
    "while stream.is_active():\n",
    "    sleep(0.1)\n",
    "\n",
    "stream.close()\n",
    "pa.terminate()\n",
    "\n",
    "############################## Plot results ####################################\n",
    "\n",
    "plt.figure()\n",
    "plt.plot(original_signal, color='grey', label='original signal')\n",
    "plt.plot(signal, color='black', label='limited signal')\n",
    "plt.legend()\n",
    "plt.show(block=True)"
   ]
  },
  {
   "cell_type": "code",
   "execution_count": 22,
   "metadata": {
    "collapsed": false
   },
   "outputs": [
    {
     "name": "stdout",
     "output_type": "stream",
     "text": [
      "Finished building notes\n"
     ]
    }
   ],
   "source": [
    "# A tone, 2 seconds, 44100 samples per second (PH note)\n",
    "\n",
    "tone_total = []\n",
    "notefile = 0\n",
    "i = 0\n",
    "for data in all_grains:\n",
    "    i += 1\n",
    "    scale_selection = rand.randint(0,3)\n",
    "    tones = []\n",
    "    for grain in data:\n",
    "        for tone in scales[noteFiles[notefile].strip('.txt')]:\n",
    "            if grain[2] == tone[2]:\n",
    "                output_note = note(float(tone[1]),float(2)/len(data),amp=100000*float(grain[1]))\n",
    "                tone_total.append(output_note)\n",
    "    if i%5 == 0:\n",
    "        notefile += 1\n",
    "    if i/10 == 2:\n",
    "        notefile = 0\n",
    "        i = 0\n",
    "    #tone_total.append(sum(tones))\n",
    "\n",
    "chords = []\n",
    "chordfile = 0\n",
    "w = 0\n",
    "for data in all_grains:\n",
    "    w += 1\n",
    "    scale_selection = rand.randint(0,3)\n",
    "    tones = []\n",
    "    for grain in data:\n",
    "        for tone in scales[noteFiles[chordfile].strip('.txt')]:\n",
    "            if grain[2] == tone[2]:\n",
    "                output_note = note(float(tone[1]),2,amp=1000*float(grain[1]))\n",
    "                tones.append(output_note)\n",
    "    chords.append(sum(tones))\n",
    "    if w%5 == 0:\n",
    "        chordfile += 1\n",
    "    if w/10 == 2:\n",
    "        chordfile = 0\n",
    "        w = 0\n",
    "    \n",
    "print 'Finished building notes'\n",
    "\n",
    "\n",
    "\n",
    "\n",
    "#concatenate((tone_total))"
   ]
  },
  {
   "cell_type": "code",
   "execution_count": null,
   "metadata": {
    "collapsed": false
   },
   "outputs": [],
   "source": [
    "print len(tone_total)\n",
    "print len(tone_total[0])\n",
    "print tone_total[-1]\n",
    "all_notes = []\n",
    "for note in tone_total:\n",
    "    if len(all_notes) == 0:\n",
    "        all_notes.append(int32(note))\n",
    "    else:\n",
    "        all_notes.extend(note)\n",
    "print len(all_notes)\n",
    "print all_notes[-1]"
   ]
  },
  {
   "cell_type": "code",
   "execution_count": 23,
   "metadata": {
    "collapsed": false
   },
   "outputs": [
    {
     "name": "stdout",
     "output_type": "stream",
     "text": [
      "5000\n",
      "100\n"
     ]
    }
   ],
   "source": [
    "write('test_noteProgression.wav',44100,concatenate((tone_total))) # writing the sound to a file\n",
    "write('test_chords.wav',44100,concatenate((chords))) # writing the sound to a file\n",
    "print len(tone_total[:])\n",
    "print len(chords[:])\n",
    "#plot(linspace(0,2,2*44100),tone_total)\n",
    "#axis([0,0.4,15000,-15000])\n",
    "#show()"
   ]
  },
  {
   "cell_type": "code",
   "execution_count": null,
   "metadata": {
    "collapsed": true
   },
   "outputs": [],
   "source": []
  }
 ],
 "metadata": {
  "kernelspec": {
   "display_name": "Python 2",
   "language": "python",
   "name": "python2"
  },
  "language_info": {
   "codemirror_mode": {
    "name": "ipython",
    "version": 2
   },
   "file_extension": ".py",
   "mimetype": "text/x-python",
   "name": "python",
   "nbconvert_exporter": "python",
   "pygments_lexer": "ipython2",
   "version": "2.7.10"
  }
 },
 "nbformat": 4,
 "nbformat_minor": 0
}
